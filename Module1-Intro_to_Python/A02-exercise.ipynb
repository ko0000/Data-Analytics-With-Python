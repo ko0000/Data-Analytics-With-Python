{
 "cells": [
  {
   "cell_type": "markdown",
   "id": "d6e33bb2-cc4e-4c17-a6e7-ab7518b940d7",
   "metadata": {},
   "source": [
    "## AFS505 exercise1 ##\n",
    "\n",
    "**Ko**\n",
    "\n",
    "*assignment 1*\n",
    "\n",
    "***Markdown practice***\n",
    "\n",
    "- ### title ###\n",
    "- **bold**\n",
    "- *italic*\n",
    "- ***bold and italic***\n",
    "- -list"
   ]
  },
  {
   "cell_type": "code",
   "execution_count": 2,
   "id": "6a5a02d7-d980-4552-9cd6-d07ff66ea5af",
   "metadata": {},
   "outputs": [
    {
     "name": "stdout",
     "output_type": "stream",
     "text": [
      "1.0\n"
     ]
    }
   ],
   "source": [
    "x=1+1-1*1/1\n",
    "print(X)"
   ]
  },
  {
   "cell_type": "raw",
   "id": "d3e334a4-8431-48d7-a87a-e4b21dc85402",
   "metadata": {},
   "source": [
    "1+1-1*1/1"
   ]
  },
  {
   "cell_type": "code",
   "execution_count": null,
   "id": "473a0221-0909-42b1-9fdd-31da58065de3",
   "metadata": {},
   "outputs": [],
   "source": []
  },
  {
   "cell_type": "code",
   "execution_count": null,
   "id": "cb3ba12a-035e-4863-90fd-861ed9340f8a",
   "metadata": {},
   "outputs": [],
   "source": []
  }
 ],
 "metadata": {
  "kernelspec": {
   "display_name": "Python 3",
   "language": "python",
   "name": "python3"
  },
  "language_info": {
   "codemirror_mode": {
    "name": "ipython",
    "version": 3
   },
   "file_extension": ".py",
   "mimetype": "text/x-python",
   "name": "python",
   "nbconvert_exporter": "python",
   "pygments_lexer": "ipython3",
   "version": "3.8.3"
  }
 },
 "nbformat": 4,
 "nbformat_minor": 5
}
