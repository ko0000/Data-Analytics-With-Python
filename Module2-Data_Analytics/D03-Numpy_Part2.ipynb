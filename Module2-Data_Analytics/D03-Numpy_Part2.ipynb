{
 "cells": [
  {
   "cell_type": "markdown",
   "metadata": {},
   "source": [
    "# Lesson 2 Class Exercises: NumPy Part 2"
   ]
  },
  {
   "cell_type": "markdown",
   "metadata": {},
   "source": [
    "For these exercises we will use a rather famous set of data from [iris flowers](https://en.wikipedia.org/wiki/Iris_flower_data_set).  The dataset will be provided to you.   Here's a peak at what it looks like:\n",
    "\n",
    "```\n",
    "sepal_length,sepal_width,petal_length,petal_width,species\n",
    "5.1,3.5,1.4,0.2,setosa\n",
    "4.9,3.0,1.4,0.2,setosa\n",
    "4.7,3.2,1.3,0.2,setosa\n",
    "4.6,3.1,1.5,0.2,setosa\n",
    "5.0,3.6,1.4,0.2,setosa\n",
    "```\n",
    "Notice that the first 4 columns are numerical representing sepal length, sepal width, petal length and petal width. The last column is a string.  \n",
    "\n",
    "But first, let's import Numpy."
   ]
  },
  {
   "cell_type": "code",
   "execution_count": 53,
   "metadata": {},
   "outputs": [],
   "source": [
    "import numpy as np"
   ]
  },
  {
   "cell_type": "markdown",
   "metadata": {},
   "source": [
    "## Exercise 1: Data Import\n",
    "Import the Iris dataset and list the dimensions of the numpy matrix after importing to ensure it's the correct size. \n",
    "\n",
    "Hints \n",
    "+ Use the `genfromtxt` function of NumPy\n",
    "+ Remember Numpy arrays must be all of the same data type. \n",
    "+ If you give the wrong arguments you may be reading in the file as a 1D array of tuples rather than a 2D array of values.\n",
    "+ This file has a header row."
   ]
  },
  {
   "cell_type": "code",
   "execution_count": 62,
   "metadata": {},
   "outputs": [
    {
     "data": {
      "text/plain": [
       "array([(5.1, 3.5, 1.4, 0.2, nan), (4.9, 3. , 1.4, 0.2, nan),\n",
       "       (4.7, 3.2, 1.3, 0.2, nan), (4.6, 3.1, 1.5, 0.2, nan),\n",
       "       (5. , 3.6, 1.4, 0.2, nan), (5.4, 3.9, 1.7, 0.4, nan),\n",
       "       (4.6, 3.4, 1.4, 0.3, nan), (5. , 3.4, 1.5, 0.2, nan),\n",
       "       (4.4, 2.9, 1.4, 0.2, nan), (4.9, 3.1, 1.5, 0.1, nan),\n",
       "       (5.4, 3.7, 1.5, 0.2, nan), (4.8, 3.4, 1.6, 0.2, nan),\n",
       "       (4.8, 3. , 1.4, 0.1, nan), (4.3, 3. , 1.1, 0.1, nan),\n",
       "       (5.8, 4. , 1.2, 0.2, nan), (5.7, 4.4, 1.5, 0.4, nan),\n",
       "       (5.4, 3.9, 1.3, 0.4, nan), (5.1, 3.5, 1.4, 0.3, nan),\n",
       "       (5.7, 3.8, 1.7, 0.3, nan), (5.1, 3.8, 1.5, 0.3, nan),\n",
       "       (5.4, 3.4, 1.7, 0.2, nan), (5.1, 3.7, 1.5, 0.4, nan),\n",
       "       (4.6, 3.6, 1. , 0.2, nan), (5.1, 3.3, 1.7, 0.5, nan),\n",
       "       (4.8, 3.4, 1.9, 0.2, nan), (5. , 3. , 1.6, 0.2, nan),\n",
       "       (5. , 3.4, 1.6, 0.4, nan), (5.2, 3.5, 1.5, 0.2, nan),\n",
       "       (5.2, 3.4, 1.4, 0.2, nan), (4.7, 3.2, 1.6, 0.2, nan),\n",
       "       (4.8, 3.1, 1.6, 0.2, nan), (5.4, 3.4, 1.5, 0.4, nan),\n",
       "       (5.2, 4.1, 1.5, 0.1, nan), (5.5, 4.2, 1.4, 0.2, nan),\n",
       "       (4.9, 3.1, 1.5, 0.1, nan), (5. , 3.2, 1.2, 0.2, nan),\n",
       "       (5.5, 3.5, 1.3, 0.2, nan), (4.9, 3.1, 1.5, 0.1, nan),\n",
       "       (4.4, 3. , 1.3, 0.2, nan), (5.1, 3.4, 1.5, 0.2, nan),\n",
       "       (5. , 3.5, 1.3, 0.3, nan), (4.5, 2.3, 1.3, 0.3, nan),\n",
       "       (4.4, 3.2, 1.3, 0.2, nan), (5. , 3.5, 1.6, 0.6, nan),\n",
       "       (5.1, 3.8, 1.9, 0.4, nan), (4.8, 3. , 1.4, 0.3, nan),\n",
       "       (5.1, 3.8, 1.6, 0.2, nan), (4.6, 3.2, 1.4, 0.2, nan),\n",
       "       (5.3, 3.7, 1.5, 0.2, nan), (5. , 3.3, 1.4, 0.2, nan),\n",
       "       (7. , 3.2, 4.7, 1.4, nan), (6.4, 3.2, 4.5, 1.5, nan),\n",
       "       (6.9, 3.1, 4.9, 1.5, nan), (5.5, 2.3, 4. , 1.3, nan),\n",
       "       (6.5, 2.8, 4.6, 1.5, nan), (5.7, 2.8, 4.5, 1.3, nan),\n",
       "       (6.3, 3.3, 4.7, 1.6, nan), (4.9, 2.4, 3.3, 1. , nan),\n",
       "       (6.6, 2.9, 4.6, 1.3, nan), (5.2, 2.7, 3.9, 1.4, nan),\n",
       "       (5. , 2. , 3.5, 1. , nan), (5.9, 3. , 4.2, 1.5, nan),\n",
       "       (6. , 2.2, 4. , 1. , nan), (6.1, 2.9, 4.7, 1.4, nan),\n",
       "       (5.6, 2.9, 3.6, 1.3, nan), (6.7, 3.1, 4.4, 1.4, nan),\n",
       "       (5.6, 3. , 4.5, 1.5, nan), (5.8, 2.7, 4.1, 1. , nan),\n",
       "       (6.2, 2.2, 4.5, 1.5, nan), (5.6, 2.5, 3.9, 1.1, nan),\n",
       "       (5.9, 3.2, 4.8, 1.8, nan), (6.1, 2.8, 4. , 1.3, nan),\n",
       "       (6.3, 2.5, 4.9, 1.5, nan), (6.1, 2.8, 4.7, 1.2, nan),\n",
       "       (6.4, 2.9, 4.3, 1.3, nan), (6.6, 3. , 4.4, 1.4, nan),\n",
       "       (6.8, 2.8, 4.8, 1.4, nan), (6.7, 3. , 5. , 1.7, nan),\n",
       "       (6. , 2.9, 4.5, 1.5, nan), (5.7, 2.6, 3.5, 1. , nan),\n",
       "       (5.5, 2.4, 3.8, 1.1, nan), (5.5, 2.4, 3.7, 1. , nan),\n",
       "       (5.8, 2.7, 3.9, 1.2, nan), (6. , 2.7, 5.1, 1.6, nan),\n",
       "       (5.4, 3. , 4.5, 1.5, nan), (6. , 3.4, 4.5, 1.6, nan),\n",
       "       (6.7, 3.1, 4.7, 1.5, nan), (6.3, 2.3, 4.4, 1.3, nan),\n",
       "       (5.6, 3. , 4.1, 1.3, nan), (5.5, 2.5, 4. , 1.3, nan),\n",
       "       (5.5, 2.6, 4.4, 1.2, nan), (6.1, 3. , 4.6, 1.4, nan),\n",
       "       (5.8, 2.6, 4. , 1.2, nan), (5. , 2.3, 3.3, 1. , nan),\n",
       "       (5.6, 2.7, 4.2, 1.3, nan), (5.7, 3. , 4.2, 1.2, nan),\n",
       "       (5.7, 2.9, 4.2, 1.3, nan), (6.2, 2.9, 4.3, 1.3, nan),\n",
       "       (5.1, 2.5, 3. , 1.1, nan), (5.7, 2.8, 4.1, 1.3, nan),\n",
       "       (6.3, 3.3, 6. , 2.5, nan), (5.8, 2.7, 5.1, 1.9, nan),\n",
       "       (7.1, 3. , 5.9, 2.1, nan), (6.3, 2.9, 5.6, 1.8, nan),\n",
       "       (6.5, 3. , 5.8, 2.2, nan), (7.6, 3. , 6.6, 2.1, nan),\n",
       "       (4.9, 2.5, 4.5, 1.7, nan), (7.3, 2.9, 6.3, 1.8, nan),\n",
       "       (6.7, 2.5, 5.8, 1.8, nan), (7.2, 3.6, 6.1, 2.5, nan),\n",
       "       (6.5, 3.2, 5.1, 2. , nan), (6.4, 2.7, 5.3, 1.9, nan),\n",
       "       (6.8, 3. , 5.5, 2.1, nan), (5.7, 2.5, 5. , 2. , nan),\n",
       "       (5.8, 2.8, 5.1, 2.4, nan), (6.4, 3.2, 5.3, 2.3, nan),\n",
       "       (6.5, 3. , 5.5, 1.8, nan), (7.7, 3.8, 6.7, 2.2, nan),\n",
       "       (7.7, 2.6, 6.9, 2.3, nan), (6. , 2.2, 5. , 1.5, nan),\n",
       "       (6.9, 3.2, 5.7, 2.3, nan), (5.6, 2.8, 4.9, 2. , nan),\n",
       "       (7.7, 2.8, 6.7, 2. , nan), (6.3, 2.7, 4.9, 1.8, nan),\n",
       "       (6.7, 3.3, 5.7, 2.1, nan), (7.2, 3.2, 6. , 1.8, nan),\n",
       "       (6.2, 2.8, 4.8, 1.8, nan), (6.1, 3. , 4.9, 1.8, nan),\n",
       "       (6.4, 2.8, 5.6, 2.1, nan), (7.2, 3. , 5.8, 1.6, nan),\n",
       "       (7.4, 2.8, 6.1, 1.9, nan), (7.9, 3.8, 6.4, 2. , nan),\n",
       "       (6.4, 2.8, 5.6, 2.2, nan), (6.3, 2.8, 5.1, 1.5, nan),\n",
       "       (6.1, 2.6, 5.6, 1.4, nan), (7.7, 3. , 6.1, 2.3, nan),\n",
       "       (6.3, 3.4, 5.6, 2.4, nan), (6.4, 3.1, 5.5, 1.8, nan),\n",
       "       (6. , 3. , 4.8, 1.8, nan), (6.9, 3.1, 5.4, 2.1, nan),\n",
       "       (6.7, 3.1, 5.6, 2.4, nan), (6.9, 3.1, 5.1, 2.3, nan),\n",
       "       (5.8, 2.7, 5.1, 1.9, nan), (6.8, 3.2, 5.9, 2.3, nan),\n",
       "       (6.7, 3.3, 5.7, 2.5, nan), (6.7, 3. , 5.2, 2.3, nan),\n",
       "       (6.3, 2.5, 5. , 1.9, nan), (6.5, 3. , 5.2, 2. , nan),\n",
       "       (6.2, 3.4, 5.4, 2.3, nan), (5.9, 3. , 5.1, 1.8, nan)],\n",
       "      dtype=[('sepal_length', '<f8'), ('sepal_width', '<f8'), ('petal_length', '<f8'), ('petal_width', '<f8'), ('species', '<f8')])"
      ]
     },
     "execution_count": 62,
     "metadata": {},
     "output_type": "execute_result"
    }
   ],
   "source": [
    "iris= np.genfromtxt(\"data/iris.csv\", names=True ,delimiter= \",\", usecols=(0,1,2,3,4))\n",
    "iris"
   ]
  },
  {
   "cell_type": "markdown",
   "metadata": {},
   "source": [
    "## Exercise 2: Indexing & Slicing\n",
    "### Task 1"
   ]
  },
  {
   "cell_type": "markdown",
   "metadata": {},
   "source": [
    "Print the top 5 lines of the iris matrix."
   ]
  },
  {
   "cell_type": "code",
   "execution_count": null,
   "metadata": {},
   "outputs": [
    {
     "data": {
      "text/plain": [
       "array([(5.1, 3.5, 1.4, 0.2, nan), (4.9, 3. , 1.4, 0.2, nan),\n",
       "       (4.7, 3.2, 1.3, 0.2, nan), (4.6, 3.1, 1.5, 0.2, nan),\n",
       "       (5. , 3.6, 1.4, 0.2, nan), (5.4, 3.9, 1.7, 0.4, nan)],\n",
       "      dtype=[('sepal_length', '<f8'), ('sepal_width', '<f8'), ('petal_length', '<f8'), ('petal_width', '<f8'), ('species', '<f8')])"
      ]
     },
     "execution_count": 5,
     "metadata": {},
     "output_type": "execute_result"
    }
   ],
   "source": [
    "iris[:6]"
   ]
  },
  {
   "cell_type": "markdown",
   "metadata": {},
   "source": [
    "Retrieve the first element of the first row"
   ]
  },
  {
   "cell_type": "code",
   "execution_count": 9,
   "metadata": {},
   "outputs": [
    {
     "data": {
      "text/plain": [
       "(5.1, 3.5, 1.4, 0.2, nan)"
      ]
     },
     "execution_count": 9,
     "metadata": {},
     "output_type": "execute_result"
    }
   ],
   "source": [
    "iris[0]"
   ]
  },
  {
   "cell_type": "markdown",
   "metadata": {},
   "source": [
    "Retrieve the first column of the first five rows of the matrix"
   ]
  },
  {
   "cell_type": "code",
   "execution_count": null,
   "metadata": {},
   "outputs": [],
   "source": []
  },
  {
   "cell_type": "markdown",
   "metadata": {},
   "source": [
    "Retrieve the last 2 cells of the last row and the last 2 cells of the second-to-last row of the iris matrix (i.e. the 4 cells in the bottom-right corner of the matrix)"
   ]
  },
  {
   "cell_type": "code",
   "execution_count": null,
   "metadata": {},
   "outputs": [],
   "source": [
    "[[0:6],[0]]"
   ]
  },
  {
   "cell_type": "markdown",
   "metadata": {},
   "source": [
    "Identify all values in the matrix that are greater than 4 and those that are not"
   ]
  },
  {
   "cell_type": "code",
   "execution_count": null,
   "metadata": {},
   "outputs": [],
   "source": []
  },
  {
   "cell_type": "markdown",
   "metadata": {},
   "source": [
    "Retrieve all values in the matrix that are greater than 4"
   ]
  },
  {
   "cell_type": "code",
   "execution_count": 22,
   "metadata": {},
   "outputs": [
    {
     "data": {
      "text/plain": [
       "array([5.1, 4.9, 4.7, 4.6, 5. , 5.4, 4.6, 5. , 4.4, 4.9, 5.4, 4.8, 4.8,\n",
       "       4.3, 5.8, 5.7, 4.4, 5.4, 5.1, 5.7, 5.1, 5.4, 5.1, 4.6, 5.1, 4.8,\n",
       "       5. , 5. , 5.2, 5.2, 4.7, 4.8, 5.4, 5.2, 4.1, 5.5, 4.2, 4.9, 5. ,\n",
       "       5.5, 4.9, 4.4, 5.1, 5. , 4.5, 4.4, 5. , 5.1, 4.8, 5.1, 4.6, 5.3,\n",
       "       5. , 7. , 4.7, 6.4, 4.5, 6.9, 4.9, 5.5, 6.5, 4.6, 5.7, 4.5, 6.3,\n",
       "       4.7, 4.9, 6.6, 4.6, 5.2, 5. , 5.9, 4.2, 6. , 6.1, 4.7, 5.6, 6.7,\n",
       "       4.4, 5.6, 4.5, 5.8, 4.1, 6.2, 4.5, 5.6, 5.9, 4.8, 6.1, 6.3, 4.9,\n",
       "       6.1, 4.7, 6.4, 4.3, 6.6, 4.4, 6.8, 4.8, 6.7, 5. , 6. , 4.5, 5.7,\n",
       "       5.5, 5.5, 5.8, 6. , 5.1, 5.4, 4.5, 6. , 4.5, 6.7, 4.7, 6.3, 4.4,\n",
       "       5.6, 4.1, 5.5, 5.5, 4.4, 6.1, 4.6, 5.8, 5. , 5.6, 4.2, 5.7, 4.2,\n",
       "       5.7, 4.2, 6.2, 4.3, 5.1, 5.7, 4.1, 6.3, 6. , 5.8, 5.1, 7.1, 5.9,\n",
       "       6.3, 5.6, 6.5, 5.8, 7.6, 6.6, 4.9, 4.5, 7.3, 6.3, 6.7, 5.8, 7.2,\n",
       "       6.1, 6.5, 5.1, 6.4, 5.3, 6.8, 5.5, 5.7, 5. , 5.8, 5.1, 6.4, 5.3,\n",
       "       6.5, 5.5, 7.7, 6.7, 7.7, 6.9, 6. , 5. , 6.9, 5.7, 5.6, 4.9, 7.7,\n",
       "       6.7, 6.3, 4.9, 6.7, 5.7, 7.2, 6. , 6.2, 4.8, 6.1, 4.9, 6.4, 5.6,\n",
       "       7.2, 5.8, 7.4, 6.1, 7.9, 6.4, 6.4, 5.6, 6.3, 5.1, 6.1, 5.6, 7.7,\n",
       "       6.1, 6.3, 5.6, 6.4, 5.5, 6. , 4.8, 6.9, 5.4, 6.7, 5.6, 6.9, 5.1,\n",
       "       5.8, 5.1, 6.8, 5.9, 6.7, 5.7, 6.7, 5.2, 6.3, 5. , 6.5, 5.2, 6.2,\n",
       "       5.4, 5.9, 5.1])"
      ]
     },
     "execution_count": 22,
     "metadata": {},
     "output_type": "execute_result"
    }
   ],
   "source": [
    "iris[iris>4]"
   ]
  },
  {
   "cell_type": "markdown",
   "metadata": {},
   "source": [
    "### Task 3\n",
    "Retrieve all rows that have at least one value greater than 4"
   ]
  },
  {
   "cell_type": "code",
   "execution_count": 31,
   "metadata": {},
   "outputs": [
    {
     "data": {
      "text/plain": [
       "array([[5.1, 3.5, 1.4, 0.2, nan],\n",
       "       [4.9, 3. , 1.4, 0.2, nan],\n",
       "       [4.7, 3.2, 1.3, 0.2, nan],\n",
       "       [4.6, 3.1, 1.5, 0.2, nan],\n",
       "       [5. , 3.6, 1.4, 0.2, nan],\n",
       "       [5.4, 3.9, 1.7, 0.4, nan],\n",
       "       [4.6, 3.4, 1.4, 0.3, nan],\n",
       "       [5. , 3.4, 1.5, 0.2, nan],\n",
       "       [4.4, 2.9, 1.4, 0.2, nan],\n",
       "       [4.9, 3.1, 1.5, 0.1, nan],\n",
       "       [5.4, 3.7, 1.5, 0.2, nan],\n",
       "       [4.8, 3.4, 1.6, 0.2, nan],\n",
       "       [4.8, 3. , 1.4, 0.1, nan],\n",
       "       [4.3, 3. , 1.1, 0.1, nan],\n",
       "       [5.8, 4. , 1.2, 0.2, nan],\n",
       "       [5.7, 4.4, 1.5, 0.4, nan],\n",
       "       [5.4, 3.9, 1.3, 0.4, nan],\n",
       "       [5.1, 3.5, 1.4, 0.3, nan],\n",
       "       [5.7, 3.8, 1.7, 0.3, nan],\n",
       "       [5.1, 3.8, 1.5, 0.3, nan],\n",
       "       [5.4, 3.4, 1.7, 0.2, nan],\n",
       "       [5.1, 3.7, 1.5, 0.4, nan],\n",
       "       [4.6, 3.6, 1. , 0.2, nan],\n",
       "       [5.1, 3.3, 1.7, 0.5, nan],\n",
       "       [4.8, 3.4, 1.9, 0.2, nan],\n",
       "       [5. , 3. , 1.6, 0.2, nan],\n",
       "       [5. , 3.4, 1.6, 0.4, nan],\n",
       "       [5.2, 3.5, 1.5, 0.2, nan],\n",
       "       [5.2, 3.4, 1.4, 0.2, nan],\n",
       "       [4.7, 3.2, 1.6, 0.2, nan],\n",
       "       [4.8, 3.1, 1.6, 0.2, nan],\n",
       "       [5.4, 3.4, 1.5, 0.4, nan],\n",
       "       [5.2, 4.1, 1.5, 0.1, nan],\n",
       "       [5.5, 4.2, 1.4, 0.2, nan],\n",
       "       [4.9, 3.1, 1.5, 0.1, nan],\n",
       "       [5. , 3.2, 1.2, 0.2, nan],\n",
       "       [5.5, 3.5, 1.3, 0.2, nan],\n",
       "       [4.9, 3.1, 1.5, 0.1, nan],\n",
       "       [4.4, 3. , 1.3, 0.2, nan],\n",
       "       [5.1, 3.4, 1.5, 0.2, nan],\n",
       "       [5. , 3.5, 1.3, 0.3, nan],\n",
       "       [4.5, 2.3, 1.3, 0.3, nan],\n",
       "       [4.4, 3.2, 1.3, 0.2, nan],\n",
       "       [5. , 3.5, 1.6, 0.6, nan],\n",
       "       [5.1, 3.8, 1.9, 0.4, nan],\n",
       "       [4.8, 3. , 1.4, 0.3, nan],\n",
       "       [5.1, 3.8, 1.6, 0.2, nan],\n",
       "       [4.6, 3.2, 1.4, 0.2, nan],\n",
       "       [5.3, 3.7, 1.5, 0.2, nan],\n",
       "       [5. , 3.3, 1.4, 0.2, nan],\n",
       "       [7. , 3.2, 4.7, 1.4, nan],\n",
       "       [6.4, 3.2, 4.5, 1.5, nan],\n",
       "       [6.9, 3.1, 4.9, 1.5, nan],\n",
       "       [5.5, 2.3, 4. , 1.3, nan],\n",
       "       [6.5, 2.8, 4.6, 1.5, nan],\n",
       "       [5.7, 2.8, 4.5, 1.3, nan],\n",
       "       [6.3, 3.3, 4.7, 1.6, nan],\n",
       "       [4.9, 2.4, 3.3, 1. , nan],\n",
       "       [6.6, 2.9, 4.6, 1.3, nan],\n",
       "       [5.2, 2.7, 3.9, 1.4, nan],\n",
       "       [5. , 2. , 3.5, 1. , nan],\n",
       "       [5.9, 3. , 4.2, 1.5, nan],\n",
       "       [6. , 2.2, 4. , 1. , nan],\n",
       "       [6.1, 2.9, 4.7, 1.4, nan],\n",
       "       [5.6, 2.9, 3.6, 1.3, nan],\n",
       "       [6.7, 3.1, 4.4, 1.4, nan],\n",
       "       [5.6, 3. , 4.5, 1.5, nan],\n",
       "       [5.8, 2.7, 4.1, 1. , nan],\n",
       "       [6.2, 2.2, 4.5, 1.5, nan],\n",
       "       [5.6, 2.5, 3.9, 1.1, nan],\n",
       "       [5.9, 3.2, 4.8, 1.8, nan],\n",
       "       [6.1, 2.8, 4. , 1.3, nan],\n",
       "       [6.3, 2.5, 4.9, 1.5, nan],\n",
       "       [6.1, 2.8, 4.7, 1.2, nan],\n",
       "       [6.4, 2.9, 4.3, 1.3, nan],\n",
       "       [6.6, 3. , 4.4, 1.4, nan],\n",
       "       [6.8, 2.8, 4.8, 1.4, nan],\n",
       "       [6.7, 3. , 5. , 1.7, nan],\n",
       "       [6. , 2.9, 4.5, 1.5, nan],\n",
       "       [5.7, 2.6, 3.5, 1. , nan],\n",
       "       [5.5, 2.4, 3.8, 1.1, nan],\n",
       "       [5.5, 2.4, 3.7, 1. , nan],\n",
       "       [5.8, 2.7, 3.9, 1.2, nan],\n",
       "       [6. , 2.7, 5.1, 1.6, nan],\n",
       "       [5.4, 3. , 4.5, 1.5, nan],\n",
       "       [6. , 3.4, 4.5, 1.6, nan],\n",
       "       [6.7, 3.1, 4.7, 1.5, nan],\n",
       "       [6.3, 2.3, 4.4, 1.3, nan],\n",
       "       [5.6, 3. , 4.1, 1.3, nan],\n",
       "       [5.5, 2.5, 4. , 1.3, nan],\n",
       "       [5.5, 2.6, 4.4, 1.2, nan],\n",
       "       [6.1, 3. , 4.6, 1.4, nan],\n",
       "       [5.8, 2.6, 4. , 1.2, nan],\n",
       "       [5. , 2.3, 3.3, 1. , nan],\n",
       "       [5.6, 2.7, 4.2, 1.3, nan],\n",
       "       [5.7, 3. , 4.2, 1.2, nan],\n",
       "       [5.7, 2.9, 4.2, 1.3, nan],\n",
       "       [6.2, 2.9, 4.3, 1.3, nan],\n",
       "       [5.1, 2.5, 3. , 1.1, nan],\n",
       "       [5.7, 2.8, 4.1, 1.3, nan],\n",
       "       [6.3, 3.3, 6. , 2.5, nan],\n",
       "       [5.8, 2.7, 5.1, 1.9, nan],\n",
       "       [7.1, 3. , 5.9, 2.1, nan],\n",
       "       [6.3, 2.9, 5.6, 1.8, nan],\n",
       "       [6.5, 3. , 5.8, 2.2, nan],\n",
       "       [7.6, 3. , 6.6, 2.1, nan],\n",
       "       [4.9, 2.5, 4.5, 1.7, nan],\n",
       "       [7.3, 2.9, 6.3, 1.8, nan],\n",
       "       [6.7, 2.5, 5.8, 1.8, nan],\n",
       "       [7.2, 3.6, 6.1, 2.5, nan],\n",
       "       [6.5, 3.2, 5.1, 2. , nan],\n",
       "       [6.4, 2.7, 5.3, 1.9, nan],\n",
       "       [6.8, 3. , 5.5, 2.1, nan],\n",
       "       [5.7, 2.5, 5. , 2. , nan],\n",
       "       [5.8, 2.8, 5.1, 2.4, nan],\n",
       "       [6.4, 3.2, 5.3, 2.3, nan],\n",
       "       [6.5, 3. , 5.5, 1.8, nan],\n",
       "       [7.7, 3.8, 6.7, 2.2, nan],\n",
       "       [7.7, 2.6, 6.9, 2.3, nan],\n",
       "       [6. , 2.2, 5. , 1.5, nan],\n",
       "       [6.9, 3.2, 5.7, 2.3, nan],\n",
       "       [5.6, 2.8, 4.9, 2. , nan],\n",
       "       [7.7, 2.8, 6.7, 2. , nan],\n",
       "       [6.3, 2.7, 4.9, 1.8, nan],\n",
       "       [6.7, 3.3, 5.7, 2.1, nan],\n",
       "       [7.2, 3.2, 6. , 1.8, nan],\n",
       "       [6.2, 2.8, 4.8, 1.8, nan],\n",
       "       [6.1, 3. , 4.9, 1.8, nan],\n",
       "       [6.4, 2.8, 5.6, 2.1, nan],\n",
       "       [7.2, 3. , 5.8, 1.6, nan],\n",
       "       [7.4, 2.8, 6.1, 1.9, nan],\n",
       "       [7.9, 3.8, 6.4, 2. , nan],\n",
       "       [6.4, 2.8, 5.6, 2.2, nan],\n",
       "       [6.3, 2.8, 5.1, 1.5, nan],\n",
       "       [6.1, 2.6, 5.6, 1.4, nan],\n",
       "       [7.7, 3. , 6.1, 2.3, nan],\n",
       "       [6.3, 3.4, 5.6, 2.4, nan],\n",
       "       [6.4, 3.1, 5.5, 1.8, nan],\n",
       "       [6. , 3. , 4.8, 1.8, nan],\n",
       "       [6.9, 3.1, 5.4, 2.1, nan],\n",
       "       [6.7, 3.1, 5.6, 2.4, nan],\n",
       "       [6.9, 3.1, 5.1, 2.3, nan],\n",
       "       [5.8, 2.7, 5.1, 1.9, nan],\n",
       "       [6.8, 3.2, 5.9, 2.3, nan],\n",
       "       [6.7, 3.3, 5.7, 2.5, nan],\n",
       "       [6.7, 3. , 5.2, 2.3, nan],\n",
       "       [6.3, 2.5, 5. , 1.9, nan],\n",
       "       [6.5, 3. , 5.2, 2. , nan],\n",
       "       [6.2, 3.4, 5.4, 2.3, nan],\n",
       "       [5.9, 3. , 5.1, 1.8, nan]])"
      ]
     },
     "execution_count": 31,
     "metadata": {},
     "output_type": "execute_result"
    }
   ],
   "source": [
    "iris[:,]"
   ]
  },
  {
   "cell_type": "markdown",
   "metadata": {},
   "source": [
    "### Task 4"
   ]
  },
  {
   "cell_type": "markdown",
   "metadata": {},
   "source": [
    "Write code to create a new 5 _x_ 5, 2D array that looks like the following:\n",
    "```python\n",
    "    [[ 1. 2. 3. 4. 5.]\n",
    "     [ 1. 2. 3. 4. 5.]\n",
    "     [ 1. 2. 3. 4. 5.]\n",
    "     [ 1. 2. 3. 4. 5.]\n",
    "     [ 1. 2. 3. 4. 5.]]\n",
    "```   \n",
    "Try to create this matrix using these functions:\n",
    "- `np.arange()`\n",
    "- `np.zero()`\n",
    "- `np.reshape()`"
   ]
  },
  {
   "cell_type": "code",
   "execution_count": 42,
   "metadata": {},
   "outputs": [
    {
     "name": "stdout",
     "output_type": "stream",
     "text": [
      "[1 2 3 4 5]\n"
     ]
    },
    {
     "data": {
      "text/plain": [
       "array([[1., 2., 3., 4., 5.],\n",
       "       [1., 2., 3., 4., 5.],\n",
       "       [1., 2., 3., 4., 5.],\n",
       "       [1., 2., 3., 4., 5.],\n",
       "       [1., 2., 3., 4., 5.]])"
      ]
     },
     "execution_count": 42,
     "metadata": {},
     "output_type": "execute_result"
    }
   ],
   "source": [
    "matrix=np.arange(1,6)\n",
    "zero=np.zeros(5).reshape(5,1)\n",
    "new=matrix + zero\n",
    "new"
   ]
  },
  {
   "cell_type": "markdown",
   "metadata": {},
   "source": [
    "Replace all elements in the array that have a value of 4 with the value 0:\n",
    "```python\n",
    "    [[ 1. 2. 3. 0. 5.]\n",
    "     [ 1. 2. 3. 0. 5.]\n",
    "     [ 1. 2. 3. 0. 5.]\n",
    "     [ 1. 2. 3. 0. 5.]\n",
    "     [ 1. 2. 3. 0. 5.]]\n",
    "```   "
   ]
  },
  {
   "cell_type": "code",
   "execution_count": 43,
   "metadata": {},
   "outputs": [
    {
     "data": {
      "text/plain": [
       "array([[1., 2., 3., 0., 5.],\n",
       "       [1., 2., 3., 0., 5.],\n",
       "       [1., 2., 3., 0., 5.],\n",
       "       [1., 2., 3., 0., 5.],\n",
       "       [1., 2., 3., 0., 5.]])"
      ]
     },
     "execution_count": 43,
     "metadata": {},
     "output_type": "execute_result"
    }
   ],
   "source": [
    "new[new==4]=0\n",
    "new"
   ]
  },
  {
   "cell_type": "markdown",
   "metadata": {},
   "source": [
    "Extract the inner matrix (no border rows and columns).  Hint: you can use negative indexing."
   ]
  },
  {
   "cell_type": "code",
   "execution_count": 44,
   "metadata": {},
   "outputs": [
    {
     "data": {
      "text/plain": [
       "array([[2., 3., 0.],\n",
       "       [2., 3., 0.],\n",
       "       [2., 3., 0.]])"
      ]
     },
     "execution_count": 44,
     "metadata": {},
     "output_type": "execute_result"
    }
   ],
   "source": [
    "new[1:-1,1:-1]"
   ]
  },
  {
   "cell_type": "markdown",
   "metadata": {},
   "source": [
    "Write code to create a new 5 _x_ 5, 2D array with 1 on the border and 0 inside.  Without using for loops.  Output example:\n",
    "```python\n",
    "    [[ 1. 1. 1. 1. 1.]\n",
    "     [ 1. 0. 0. 0. 1.]\n",
    "     [ 1. 0. 0. 0. 1.]\n",
    "     [ 1. 0. 0. 0. 1.]\n",
    "     [ 1. 1. 1. 1. 1.]]\n",
    "```    \n",
    "Hint:\n",
    "- Use the `np.ones()` function\n",
    "- Use indexing"
   ]
  },
  {
   "cell_type": "code",
   "execution_count": null,
   "metadata": {},
   "outputs": [],
   "source": [
    "np.ones()"
   ]
  },
  {
   "cell_type": "markdown",
   "metadata": {},
   "source": [
    "## Exercise 3: \n",
    "Putting Things Together (NumPy Parts 1 & 2)"
   ]
  },
  {
   "cell_type": "markdown",
   "metadata": {},
   "source": [
    "### Task 1\n",
    "Calculate and print the mean, median and starndard deviation of the sepal length"
   ]
  },
  {
   "cell_type": "code",
   "execution_count": 59,
   "metadata": {},
   "outputs": [
    {
     "name": "stdout",
     "output_type": "stream",
     "text": [
      "5.843333333333334 \n",
      "\n",
      "5.8 \n",
      "\n"
     ]
    },
    {
     "ename": "NameError",
     "evalue": "name 'stdev' is not defined",
     "output_type": "error",
     "traceback": [
      "\u001b[0;31m---------------------------------------------------------------------------\u001b[0m",
      "\u001b[0;31mNameError\u001b[0m                                 Traceback (most recent call last)",
      "\u001b[0;32m<ipython-input-59-5cb550cd3315>\u001b[0m in \u001b[0;36m<module>\u001b[0;34m\u001b[0m\n\u001b[1;32m      1\u001b[0m \u001b[0mprint\u001b[0m\u001b[0;34m(\u001b[0m\u001b[0miris\u001b[0m\u001b[0;34m[\u001b[0m\u001b[0;34m:\u001b[0m\u001b[0;34m,\u001b[0m\u001b[0;36m0\u001b[0m\u001b[0;34m]\u001b[0m\u001b[0;34m.\u001b[0m\u001b[0mmean\u001b[0m\u001b[0;34m(\u001b[0m\u001b[0;34m)\u001b[0m\u001b[0;34m,\u001b[0m\u001b[0;34m\"\\n\"\u001b[0m\u001b[0;34m)\u001b[0m\u001b[0;34m\u001b[0m\u001b[0;34m\u001b[0m\u001b[0m\n\u001b[1;32m      2\u001b[0m \u001b[0mprint\u001b[0m\u001b[0;34m(\u001b[0m\u001b[0mnp\u001b[0m\u001b[0;34m.\u001b[0m\u001b[0mmedian\u001b[0m\u001b[0;34m(\u001b[0m\u001b[0miris\u001b[0m\u001b[0;34m[\u001b[0m\u001b[0;34m:\u001b[0m\u001b[0;34m,\u001b[0m\u001b[0;36m0\u001b[0m\u001b[0;34m]\u001b[0m\u001b[0;34m)\u001b[0m\u001b[0;34m,\u001b[0m\u001b[0;34m\"\\n\"\u001b[0m\u001b[0;34m)\u001b[0m\u001b[0;34m\u001b[0m\u001b[0;34m\u001b[0m\u001b[0m\n\u001b[0;32m----> 3\u001b[0;31m \u001b[0mprint\u001b[0m\u001b[0;34m(\u001b[0m\u001b[0mstdev\u001b[0m\u001b[0;34m(\u001b[0m\u001b[0miris\u001b[0m\u001b[0;34m[\u001b[0m\u001b[0;34m:\u001b[0m\u001b[0;34m,\u001b[0m\u001b[0;36m0\u001b[0m\u001b[0;34m]\u001b[0m\u001b[0;34m)\u001b[0m\u001b[0;34m)\u001b[0m\u001b[0;34m\u001b[0m\u001b[0;34m\u001b[0m\u001b[0m\n\u001b[0m",
      "\u001b[0;31mNameError\u001b[0m: name 'stdev' is not defined"
     ]
    }
   ],
   "source": [
    "print(iris[:,0].mean(),\"\\n\")\n",
    "print(np.median(iris[:,0]),\"\\n\")\n",
    "print(stdev(iris[:,0]))"
   ]
  },
  {
   "cell_type": "markdown",
   "metadata": {},
   "source": [
    "### Task 2\n",
    "Normalize the sepal length column so that all valus are between 0 and 1 such that the minimum value is 0 and the maximum is 1. Print the results."
   ]
  },
  {
   "cell_type": "code",
   "execution_count": null,
   "metadata": {},
   "outputs": [],
   "source": []
  },
  {
   "cell_type": "markdown",
   "metadata": {},
   "source": [
    "### Task 3\n",
    "Find the Pearson's correlation coefficient between sepal length and petal length."
   ]
  },
  {
   "cell_type": "code",
   "execution_count": null,
   "metadata": {},
   "outputs": [],
   "source": []
  },
  {
   "cell_type": "markdown",
   "metadata": {},
   "source": [
    "### Task 4\n",
    "Get a list of unique values from the sepal length column"
   ]
  },
  {
   "cell_type": "code",
   "execution_count": null,
   "metadata": {},
   "outputs": [],
   "source": []
  },
  {
   "cell_type": "markdown",
   "metadata": {},
   "source": [
    "### Task 5"
   ]
  },
  {
   "cell_type": "markdown",
   "metadata": {},
   "source": [
    "Retrieve 5 random rows from the iris matrix"
   ]
  },
  {
   "cell_type": "code",
   "execution_count": null,
   "metadata": {},
   "outputs": [],
   "source": []
  },
  {
   "cell_type": "markdown",
   "metadata": {},
   "source": [
    "### Task 6"
   ]
  },
  {
   "cell_type": "markdown",
   "metadata": {},
   "source": [
    "Retrieve 5 random values from the iris matrix and store them in a new NumPy array\n"
   ]
  },
  {
   "cell_type": "code",
   "execution_count": null,
   "metadata": {},
   "outputs": [],
   "source": []
  },
  {
   "cell_type": "markdown",
   "metadata": {},
   "source": [
    "## Exercise 4: Transpose"
   ]
  },
  {
   "cell_type": "markdown",
   "metadata": {},
   "source": [
    "Transpose the iris array, save it into a new variable, and prints it's shape to confirm"
   ]
  },
  {
   "cell_type": "code",
   "execution_count": null,
   "metadata": {},
   "outputs": [],
   "source": []
  },
  {
   "cell_type": "markdown",
   "metadata": {},
   "source": [
    "## Exercise 5:  Resize"
   ]
  },
  {
   "cell_type": "markdown",
   "metadata": {},
   "source": [
    "Use the `resize` function to expand the iris dataset to add 5 new rows, save it in a new variable. Print it's dimensions to confirm"
   ]
  },
  {
   "cell_type": "code",
   "execution_count": null,
   "metadata": {},
   "outputs": [],
   "source": []
  },
  {
   "cell_type": "markdown",
   "metadata": {},
   "source": [
    "Print the last five rows of the matrix"
   ]
  },
  {
   "cell_type": "code",
   "execution_count": null,
   "metadata": {},
   "outputs": [],
   "source": []
  },
  {
   "cell_type": "markdown",
   "metadata": {},
   "source": [
    "## Exercise 6: Putting Things Together"
   ]
  },
  {
   "cell_type": "markdown",
   "metadata": {},
   "source": [
    "Fill the last 5 rows of the newly resized array with random numbers between 10 and 20, and print the last 5 rows of the matrix to confirm"
   ]
  },
  {
   "cell_type": "code",
   "execution_count": null,
   "metadata": {},
   "outputs": [],
   "source": []
  },
  {
   "cell_type": "markdown",
   "metadata": {},
   "source": [
    "## Exercise 7: Append"
   ]
  },
  {
   "cell_type": "markdown",
   "metadata": {},
   "source": [
    "Use the `append` function to add five new rows of random numbers between 30 and 40. Save the new matrix in a new variable. Print the last 5 rows to confirm"
   ]
  },
  {
   "cell_type": "code",
   "execution_count": null,
   "metadata": {},
   "outputs": [],
   "source": []
  },
  {
   "cell_type": "markdown",
   "metadata": {},
   "source": [
    "## Exercise 8: Insert"
   ]
  },
  {
   "cell_type": "markdown",
   "metadata": {},
   "source": [
    "Insert a row of random numbers between 40 and 50 in the second row position of the iris matrix store the value in a new variable.  Print the first 5 rows to confirm"
   ]
  },
  {
   "cell_type": "code",
   "execution_count": null,
   "metadata": {},
   "outputs": [],
   "source": []
  },
  {
   "cell_type": "markdown",
   "metadata": {},
   "source": [
    "## Exercise 9: Delete"
   ]
  },
  {
   "cell_type": "markdown",
   "metadata": {},
   "source": [
    "Delete the row just added and print the first 5 rows to confirm"
   ]
  },
  {
   "cell_type": "code",
   "execution_count": null,
   "metadata": {},
   "outputs": [],
   "source": []
  },
  {
   "cell_type": "markdown",
   "metadata": {},
   "source": [
    "## Exersize 10: Putting things Together"
   ]
  },
  {
   "cell_type": "markdown",
   "metadata": {},
   "source": [
    "Remove all rows where all the values in the row are greater than 2 and save in a new array. Print the shape to confirm (should loose 23 rows). Hint: this is a trick question (you wont use the `delete` function to do this)."
   ]
  },
  {
   "cell_type": "code",
   "execution_count": null,
   "metadata": {},
   "outputs": [],
   "source": []
  }
 ],
 "metadata": {
  "kernelspec": {
   "display_name": "Python 3",
   "language": "python",
   "name": "python3"
  },
  "language_info": {
   "codemirror_mode": {
    "name": "ipython",
    "version": 3
   },
   "file_extension": ".py",
   "mimetype": "text/x-python",
   "name": "python",
   "nbconvert_exporter": "python",
   "pygments_lexer": "ipython3",
   "version": "3.8.3"
  }
 },
 "nbformat": 4,
 "nbformat_minor": 4
}
